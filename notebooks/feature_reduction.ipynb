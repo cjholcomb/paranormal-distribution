{
 "metadata": {
  "language_info": {
   "codemirror_mode": {
    "name": "ipython",
    "version": 3
   },
   "file_extension": ".py",
   "mimetype": "text/x-python",
   "name": "python",
   "nbconvert_exporter": "python",
   "pygments_lexer": "ipython3",
   "version": "3.8.2-final"
  },
  "orig_nbformat": 2,
  "kernelspec": {
   "name": "python3",
   "display_name": "Python 3"
  }
 },
 "nbformat": 4,
 "nbformat_minor": 2,
 "cells": [
  {
   "cell_type": "code",
   "execution_count": 1,
   "metadata": {},
   "outputs": [],
   "source": [
    "import pandas as pd\n",
    "from datetime import date\n",
    "import json\n",
    "import csv \n",
    "import numpy as np"
   ]
  },
  {
   "cell_type": "code",
   "execution_count": 2,
   "metadata": {},
   "outputs": [],
   "source": [
    "features = ['Unnamed: 0', 'created_at','id',\n",
    "\n",
    " 'full_text', \n",
    " \n",
    " 'entities.user_mentions', 'entities.hashtags', 'possibly_sensitive','in_reply_to_status_id', 'is_quote_status', \n",
    " \n",
    " 'user.followers_count','user.created_at', 'user.verified', 'user.default_profile_image', \n",
    " \n",
    " 'quoted_status.entities.user_mentions', 'quoted_status.entities.hashtags', 'quoted_status.possibly_sensitive', 'quoted_status.in_reply_to_status_id', 'quoted_status.is_quote_status', 'quoted_status.retweet_count', 'quoted_status.favorite_count', \n",
    " \n",
    " 'quoted_status.user.created_at', 'quoted_status.user.followers_count', 'quoted_status.user.default_profile_image', 'quoted_status.user.verified',\n",
    " \n",
    " 'retweeted_status.entities.user_mentions', 'retweeted_status.entities.hashtags', 'retweeted_status.possibly_sensitive', 'retweeted_status.in_reply_to_status_id', 'retweeted_status.is_quote_status',  'retweeted_status.retweet_count', 'retweeted_status.favorite_count', \n",
    " \n",
    " 'retweeted_status.user.created_at', 'retweeted_status.user.followers_count', 'retweeted_status.user.verified', 'retweeted_status.user.default_profile_image',\n",
    " \n",
    " 'retweet_count', 'favorite_count']"
   ]
  },
  {
   "cell_type": "code",
   "execution_count": 3,
   "metadata": {},
   "outputs": [],
   "source": [
    "df = pd.read_csv('../../data/smtweetdata.csv', usecols= features)"
   ]
  },
  {
   "cell_type": "code",
   "execution_count": 4,
   "metadata": {},
   "outputs": [
    {
     "output_type": "stream",
     "name": "stdout",
     "text": [
      "<class 'pandas.core.frame.DataFrame'>\nRangeIndex: 1000 entries, 0 to 999\nData columns (total 37 columns):\n #   Column                                       Non-Null Count  Dtype  \n---  ------                                       --------------  -----  \n 0   Unnamed: 0                                   1000 non-null   int64  \n 1   created_at                                   1000 non-null   object \n 2   id                                           1000 non-null   int64  \n 3   full_text                                    1000 non-null   object \n 4   in_reply_to_status_id                        154 non-null    float64\n 5   is_quote_status                              1000 non-null   bool   \n 6   retweet_count                                1000 non-null   int64  \n 7   favorite_count                               1000 non-null   int64  \n 8   possibly_sensitive                           238 non-null    object \n 9   entities.hashtags                            1000 non-null   object \n 10  entities.user_mentions                       1000 non-null   object \n 11  user.followers_count                         1000 non-null   float64\n 12  user.created_at                              1000 non-null   object \n 13  user.verified                                1000 non-null   bool   \n 14  user.default_profile_image                   1000 non-null   bool   \n 15  quoted_status.entities.hashtags              56 non-null     object \n 16  quoted_status.entities.user_mentions         56 non-null     object \n 17  quoted_status.in_reply_to_status_id          4 non-null      float64\n 18  quoted_status.user.followers_count           56 non-null     float64\n 19  quoted_status.user.created_at                56 non-null     object \n 20  quoted_status.user.verified                  56 non-null     object \n 21  quoted_status.user.default_profile_image     56 non-null     object \n 22  quoted_status.is_quote_status                56 non-null     object \n 23  quoted_status.retweet_count                  56 non-null     float64\n 24  quoted_status.favorite_count                 56 non-null     float64\n 25  retweeted_status.entities.hashtags           727 non-null    object \n 26  retweeted_status.entities.user_mentions      727 non-null    object \n 27  retweeted_status.in_reply_to_status_id       52 non-null     float64\n 28  retweeted_status.user.followers_count        727 non-null    float64\n 29  retweeted_status.user.created_at             727 non-null    object \n 30  retweeted_status.user.verified               727 non-null    object \n 31  retweeted_status.user.default_profile_image  727 non-null    object \n 32  retweeted_status.is_quote_status             727 non-null    object \n 33  retweeted_status.retweet_count               727 non-null    float64\n 34  retweeted_status.favorite_count              727 non-null    float64\n 35  retweeted_status.possibly_sensitive          396 non-null    object \n 36  quoted_status.possibly_sensitive             28 non-null     object \ndtypes: bool(3), float64(10), int64(4), object(20)\nmemory usage: 268.7+ KB\n"
     ]
    }
   ],
   "source": [
    "df.info()"
   ]
  },
  {
   "cell_type": "code",
   "execution_count": 5,
   "metadata": {},
   "outputs": [],
   "source": [
    "rename_schema = {'Unnamed: 0':'index', 'created_at':'tweet_date', 'id':'tweet_id', 'full_text':'tweet_text', 'is_quote_status':'is_quote', 'retweet_count':'retweets', 'favorite_count':'favorites', 'possibly_sensitive':'sensitive', 'entities.hashtags':'hashtags',\n",
    "'entities.user_mentions':'mentions', \n",
    "\n",
    "'user.followers_count':'u_followers', 'user.created_at':'u_created', 'user.verified':'u_verified', 'user.default_profile_image':'u_egg',\n",
    "\n",
    "'quoted_status.entities.hashtags':'q_hashtags', 'quoted_status.entities.user_mentions':'q_mentions', 'quoted_status.possibly_sensitive':'q_sensitive', 'quoted_status.retweet_count':'q_retweets', 'quoted_status.favorite_count':'q_favorites', 'quoted_status.is_quote_status':'q_quote', \n",
    "\n",
    "'quoted_status.user.followers_count':'qu_followers', 'quoted_status.user.created_at':'qu_created', 'quoted_status.user.verified':'qu_verified', 'quoted_status.user.default_profile_image':'qu_egg', \n",
    "\n",
    "'retweeted_status.entities.hashtags':'r_hashtags', 'retweeted_status.entities.user_mentions':'r_mentions', 'retweeted_status.is_quote_status':'r_quote', 'retweeted_status.retweet_count':'r_retweets','retweeted_status.favorite_count':'r_favorites', 'retweeted_status.possibly_sensitive':'r_sensitive', \n",
    "\n",
    "'retweeted_status.user.followers_count':'ru_followers', 'retweeted_status.user.created_at':'ru_created', 'retweeted_status.user.verified':'ru_verified', 'retweeted_status.user.default_profile_image':'ru_egg'}"
   ]
  },
  {
   "cell_type": "code",
   "execution_count": 6,
   "metadata": {},
   "outputs": [],
   "source": [
    "df.rename(columns = rename_schema, inplace = True)"
   ]
  },
  {
   "cell_type": "code",
   "execution_count": 7,
   "metadata": {},
   "outputs": [],
   "source": [
    "df['is_reply'] = df['in_reply_to_status_id'] / df['in_reply_to_status_id']\n",
    "df['is_reply'].fillna(value = 0, inplace = True)\n",
    "df['is_reply'].value_counts()\n",
    "df.drop(columns = ['in_reply_to_status_id'], inplace = True)"
   ]
  },
  {
   "cell_type": "code",
   "execution_count": 8,
   "metadata": {},
   "outputs": [
    {
     "output_type": "execute_result",
     "data": {
      "text/plain": [
       "0    992\n",
       "1      8\n",
       "Name: sensitive, dtype: int64"
      ]
     },
     "metadata": {},
     "execution_count": 8
    }
   ],
   "source": [
    "df['sensitive'] = df['sensitive'] * 1\n",
    "df['sensitive'].fillna(value = 0, inplace = True)\n",
    "df['sensitive'].value_counts()"
   ]
  },
  {
   "cell_type": "code",
   "execution_count": 9,
   "metadata": {},
   "outputs": [
    {
     "output_type": "execute_result",
     "data": {
      "text/plain": [
       "0    918\n",
       "1     82\n",
       "Name: u_egg, dtype: int64"
      ]
     },
     "metadata": {},
     "execution_count": 9
    }
   ],
   "source": [
    "df['u_egg'] = (df['u_egg'] * 1) \n",
    "df['u_egg'].value_counts()"
   ]
  },
  {
   "cell_type": "code",
   "execution_count": 10,
   "metadata": {},
   "outputs": [
    {
     "output_type": "stream",
     "name": "stdout",
     "text": [
      "<class 'pandas.core.frame.DataFrame'>\nRangeIndex: 1000 entries, 0 to 999\nData columns (total 37 columns):\n #   Column                                  Non-Null Count  Dtype  \n---  ------                                  --------------  -----  \n 0   index                                   1000 non-null   int64  \n 1   tweet_date                              1000 non-null   object \n 2   tweet_id                                1000 non-null   int64  \n 3   tweet_text                              1000 non-null   object \n 4   is_quote                                1000 non-null   bool   \n 5   retweets                                1000 non-null   int64  \n 6   favorites                               1000 non-null   int64  \n 7   sensitive                               1000 non-null   int64  \n 8   hashtags                                1000 non-null   object \n 9   mentions                                1000 non-null   object \n 10  u_followers                             1000 non-null   float64\n 11  u_created                               1000 non-null   object \n 12  u_verified                              1000 non-null   bool   \n 13  u_egg                                   1000 non-null   int64  \n 14  q_hashtags                              56 non-null     object \n 15  q_mentions                              56 non-null     object \n 16  quoted_status.in_reply_to_status_id     4 non-null      float64\n 17  qu_followers                            56 non-null     float64\n 18  qu_created                              56 non-null     object \n 19  qu_verified                             56 non-null     object \n 20  qu_egg                                  56 non-null     object \n 21  q_quote                                 56 non-null     object \n 22  q_retweets                              56 non-null     float64\n 23  q_favorites                             56 non-null     float64\n 24  r_hashtags                              727 non-null    object \n 25  r_mentions                              727 non-null    object \n 26  retweeted_status.in_reply_to_status_id  52 non-null     float64\n 27  ru_followers                            727 non-null    float64\n 28  ru_created                              727 non-null    object \n 29  ru_verified                             727 non-null    object \n 30  ru_egg                                  727 non-null    object \n 31  r_quote                                 727 non-null    object \n 32  r_retweets                              727 non-null    float64\n 33  r_favorites                             727 non-null    float64\n 34  r_sensitive                             396 non-null    object \n 35  q_sensitive                             28 non-null     object \n 36  is_reply                                1000 non-null   float64\ndtypes: bool(2), float64(10), int64(6), object(19)\nmemory usage: 275.5+ KB\n"
     ]
    }
   ],
   "source": [
    "df.info()"
   ]
  },
  {
   "cell_type": "code",
   "execution_count": 11,
   "metadata": {},
   "outputs": [],
   "source": [
    "column_order = ['index',\n",
    " 'tweet_id',\n",
    " 'tweet_date',\n",
    " 'tweet_text',\n",
    " \n",
    " 'is_reply',\n",
    " 'is_quote',\n",
    " 'sensitive',\n",
    "\n",
    " 'hashtags',\n",
    " 'mentions',\n",
    "\n",
    " 'u_verified',\n",
    " 'u_egg',\n",
    "\n",
    " 'u_followers',\n",
    " 'u_created',\n",
    "\n",
    " 'quoted_status.in_reply_to_status_id',\n",
    "  'q_quote',\n",
    "  'q_sensitive',\n",
    "\n",
    " 'q_retweets',\n",
    " 'q_favorites',\n",
    "\n",
    " 'q_hashtags',\n",
    " 'q_mentions',\n",
    "\n",
    " 'qu_verified',\n",
    " 'qu_egg',\n",
    "\n",
    " 'qu_followers',\n",
    " 'qu_created',\n",
    "\n",
    "'retweeted_status.in_reply_to_status_id',\n",
    " 'r_quote',\n",
    "  'r_sensitive',\n",
    "\n",
    " 'r_retweets',\n",
    " 'r_favorites',\n",
    "\n",
    " 'r_hashtags',\n",
    " 'r_mentions',\n",
    "\n",
    " 'ru_verified',\n",
    " 'ru_egg',\n",
    "\n",
    " 'ru_followers',\n",
    " 'ru_created',\n",
    "\n",
    " 'retweets',\n",
    " 'favorites',]"
   ]
  },
  {
   "cell_type": "code",
   "execution_count": 12,
   "metadata": {},
   "outputs": [
    {
     "output_type": "execute_result",
     "data": {
      "text/plain": [
       "1.0    727\n",
       "0.0    273\n",
       "Name: is_retweet, dtype: int64"
      ]
     },
     "metadata": {},
     "execution_count": 12
    }
   ],
   "source": [
    "df['is_retweet'] = (df['r_retweets'] % 1) + 1\n",
    "df['is_retweet'].fillna(0, inplace = True)\n",
    "df['is_retweet'].value_counts()"
   ]
  },
  {
   "cell_type": "code",
   "execution_count": 13,
   "metadata": {},
   "outputs": [],
   "source": [
    "basic_drop = ['index',\n",
    "\n",
    " 'quoted_status.in_reply_to_status_id',\n",
    "  'q_quote',\n",
    "  'q_sensitive',\n",
    "\n",
    " 'q_retweets',\n",
    " 'q_favorites',\n",
    "\n",
    " 'q_hashtags',\n",
    " 'q_mentions',\n",
    "\n",
    " 'qu_verified',\n",
    " 'qu_egg',\n",
    "\n",
    " 'qu_followers',\n",
    " 'qu_created',\n",
    "\n",
    "'retweeted_status.in_reply_to_status_id',\n",
    " 'r_quote',\n",
    "  'r_sensitive',\n",
    "\n",
    " 'r_retweets',\n",
    " 'r_favorites',\n",
    "\n",
    " 'r_hashtags',\n",
    " 'r_mentions',\n",
    "\n",
    " 'ru_verified',\n",
    " 'ru_egg',\n",
    "\n",
    " 'ru_followers',\n",
    " 'ru_created',\n",
    "\n",
    " 'retweets',\n",
    " 'favorites',]"
   ]
  },
  {
   "cell_type": "code",
   "execution_count": 14,
   "metadata": {},
   "outputs": [
    {
     "output_type": "execute_result",
     "data": {
      "text/plain": [
       "                         tweet_date             tweet_id  \\\n",
       "0    Tue Sep 29 23:59:56 +0000 2020  1311093385688735744   \n",
       "1    Tue Sep 29 23:59:58 +0000 2020  1311093394400333824   \n",
       "2    Wed Sep 30 00:00:00 +0000 2020  1311093401652277252   \n",
       "3    Wed Sep 30 00:00:02 +0000 2020  1311093410737070086   \n",
       "4    Wed Sep 30 00:00:04 +0000 2020  1311093419100561408   \n",
       "..                              ...                  ...   \n",
       "995  Wed Sep 30 00:32:50 +0000 2020  1311101665697771522   \n",
       "996  Wed Sep 30 00:32:52 +0000 2020  1311101673650126849   \n",
       "997  Wed Sep 30 00:32:54 +0000 2020  1311101681933996032   \n",
       "998  Wed Sep 30 00:32:56 +0000 2020  1311101690372857856   \n",
       "999  Wed Sep 30 00:32:58 +0000 2020  1311101698878902274   \n",
       "\n",
       "                                            tweet_text  is_quote  sensitive  \\\n",
       "0    Biden a professional debater??  Hardly!! More ...      True          0   \n",
       "1    RT @DarDar458: #PresidentialDebate #Debates202...      True          0   \n",
       "2    How can Biden stand a chance against Trump in ...     False          0   \n",
       "3    RT @abbydphillip: Very reminiscent of pre-2018...      True          0   \n",
       "4    RT @RudyGiuliani: Why was Corrupt Biden’s son ...     False          0   \n",
       "..                                                 ...       ...        ...   \n",
       "995  RT @petro21805: How are you feeling about toni...     False          0   \n",
       "996  RT @TrumpWarRoom: Joe Biden is refusing to rel...     False          0   \n",
       "997  @JoeBiden loves ice cream.\\nI love ice cream.\\...      True          0   \n",
       "998  RT @dbongino: Dear Asshole Who Stole My 2 Trum...     False          0   \n",
       "999  RT @ibepacheco: Que nadie se llame a engaño co...     False          0   \n",
       "\n",
       "                                              hashtags  \\\n",
       "0                                                   []   \n",
       "1    [{'text': 'PresidentialDebate', 'indices': [15...   \n",
       "2    [{'text': 'VarneyCo', 'indices': [259, 268]}, ...   \n",
       "3                                                   []   \n",
       "4                                                   []   \n",
       "..                                                 ...   \n",
       "995  [{'text': 'Debates2020', 'indices': [109, 121]...   \n",
       "996                                                 []   \n",
       "997           [{'text': 'CLE', 'indices': [118, 122]}]   \n",
       "998                                                 []   \n",
       "999                                                 []   \n",
       "\n",
       "                                              mentions  u_followers  \\\n",
       "0                                                   []       4065.0   \n",
       "1    [{'screen_name': 'DarDar458', 'name': 'DarDar4...      31031.0   \n",
       "2    [{'screen_name': 'wjmcgurn', 'name': 'Bill McG...     663539.0   \n",
       "3    [{'screen_name': 'abbydphillip', 'name': 'Abby...      21737.0   \n",
       "4    [{'screen_name': 'RudyGiuliani', 'name': 'Rudy...        893.0   \n",
       "..                                                 ...          ...   \n",
       "995  [{'screen_name': 'petro21805', 'name': 'Hunter...       7810.0   \n",
       "996  [{'screen_name': 'TrumpWarRoom', 'name': 'Trum...       1068.0   \n",
       "997  [{'screen_name': 'JoeBiden', 'name': 'Joe Bide...       1161.0   \n",
       "998  [{'screen_name': 'dbongino', 'name': 'Dan Bong...         12.0   \n",
       "999  [{'screen_name': 'ibepacheco', 'name': 'Ibéyis...        193.0   \n",
       "\n",
       "                          u_created  u_verified  u_egg  is_reply  is_retweet  \n",
       "0    Sat Feb 27 00:36:23 +0000 2010       False      0       0.0         0.0  \n",
       "1    Fri Apr 10 02:47:29 +0000 2009       False      0       0.0         1.0  \n",
       "2    Wed Apr 13 16:27:54 +0000 2011        True      0       0.0         0.0  \n",
       "3    Sat Nov 07 16:57:16 +0000 2009        True      0       0.0         1.0  \n",
       "4    Wed Jun 03 04:44:06 +0000 2009       False      0       0.0         1.0  \n",
       "..                              ...         ...    ...       ...         ...  \n",
       "995  Mon Jan 23 01:11:48 +0000 2017       False      0       0.0         1.0  \n",
       "996  Thu Mar 30 00:11:54 +0000 2017       False      0       0.0         1.0  \n",
       "997  Tue Jan 08 12:33:43 +0000 2013       False      0       0.0         0.0  \n",
       "998  Sun Aug 23 00:36:12 +0000 2020       False      0       0.0         1.0  \n",
       "999  Mon Dec 26 13:05:00 +0000 2011       False      0       0.0         1.0  \n",
       "\n",
       "[1000 rows x 13 columns]"
      ],
      "text/html": "<div>\n<style scoped>\n    .dataframe tbody tr th:only-of-type {\n        vertical-align: middle;\n    }\n\n    .dataframe tbody tr th {\n        vertical-align: top;\n    }\n\n    .dataframe thead th {\n        text-align: right;\n    }\n</style>\n<table border=\"1\" class=\"dataframe\">\n  <thead>\n    <tr style=\"text-align: right;\">\n      <th></th>\n      <th>tweet_date</th>\n      <th>tweet_id</th>\n      <th>tweet_text</th>\n      <th>is_quote</th>\n      <th>sensitive</th>\n      <th>hashtags</th>\n      <th>mentions</th>\n      <th>u_followers</th>\n      <th>u_created</th>\n      <th>u_verified</th>\n      <th>u_egg</th>\n      <th>is_reply</th>\n      <th>is_retweet</th>\n    </tr>\n  </thead>\n  <tbody>\n    <tr>\n      <th>0</th>\n      <td>Tue Sep 29 23:59:56 +0000 2020</td>\n      <td>1311093385688735744</td>\n      <td>Biden a professional debater??  Hardly!! More ...</td>\n      <td>True</td>\n      <td>0</td>\n      <td>[]</td>\n      <td>[]</td>\n      <td>4065.0</td>\n      <td>Sat Feb 27 00:36:23 +0000 2010</td>\n      <td>False</td>\n      <td>0</td>\n      <td>0.0</td>\n      <td>0.0</td>\n    </tr>\n    <tr>\n      <th>1</th>\n      <td>Tue Sep 29 23:59:58 +0000 2020</td>\n      <td>1311093394400333824</td>\n      <td>RT @DarDar458: #PresidentialDebate #Debates202...</td>\n      <td>True</td>\n      <td>0</td>\n      <td>[{'text': 'PresidentialDebate', 'indices': [15...</td>\n      <td>[{'screen_name': 'DarDar458', 'name': 'DarDar4...</td>\n      <td>31031.0</td>\n      <td>Fri Apr 10 02:47:29 +0000 2009</td>\n      <td>False</td>\n      <td>0</td>\n      <td>0.0</td>\n      <td>1.0</td>\n    </tr>\n    <tr>\n      <th>2</th>\n      <td>Wed Sep 30 00:00:00 +0000 2020</td>\n      <td>1311093401652277252</td>\n      <td>How can Biden stand a chance against Trump in ...</td>\n      <td>False</td>\n      <td>0</td>\n      <td>[{'text': 'VarneyCo', 'indices': [259, 268]}, ...</td>\n      <td>[{'screen_name': 'wjmcgurn', 'name': 'Bill McG...</td>\n      <td>663539.0</td>\n      <td>Wed Apr 13 16:27:54 +0000 2011</td>\n      <td>True</td>\n      <td>0</td>\n      <td>0.0</td>\n      <td>0.0</td>\n    </tr>\n    <tr>\n      <th>3</th>\n      <td>Wed Sep 30 00:00:02 +0000 2020</td>\n      <td>1311093410737070086</td>\n      <td>RT @abbydphillip: Very reminiscent of pre-2018...</td>\n      <td>True</td>\n      <td>0</td>\n      <td>[]</td>\n      <td>[{'screen_name': 'abbydphillip', 'name': 'Abby...</td>\n      <td>21737.0</td>\n      <td>Sat Nov 07 16:57:16 +0000 2009</td>\n      <td>True</td>\n      <td>0</td>\n      <td>0.0</td>\n      <td>1.0</td>\n    </tr>\n    <tr>\n      <th>4</th>\n      <td>Wed Sep 30 00:00:04 +0000 2020</td>\n      <td>1311093419100561408</td>\n      <td>RT @RudyGiuliani: Why was Corrupt Biden’s son ...</td>\n      <td>False</td>\n      <td>0</td>\n      <td>[]</td>\n      <td>[{'screen_name': 'RudyGiuliani', 'name': 'Rudy...</td>\n      <td>893.0</td>\n      <td>Wed Jun 03 04:44:06 +0000 2009</td>\n      <td>False</td>\n      <td>0</td>\n      <td>0.0</td>\n      <td>1.0</td>\n    </tr>\n    <tr>\n      <th>...</th>\n      <td>...</td>\n      <td>...</td>\n      <td>...</td>\n      <td>...</td>\n      <td>...</td>\n      <td>...</td>\n      <td>...</td>\n      <td>...</td>\n      <td>...</td>\n      <td>...</td>\n      <td>...</td>\n      <td>...</td>\n      <td>...</td>\n    </tr>\n    <tr>\n      <th>995</th>\n      <td>Wed Sep 30 00:32:50 +0000 2020</td>\n      <td>1311101665697771522</td>\n      <td>RT @petro21805: How are you feeling about toni...</td>\n      <td>False</td>\n      <td>0</td>\n      <td>[{'text': 'Debates2020', 'indices': [109, 121]...</td>\n      <td>[{'screen_name': 'petro21805', 'name': 'Hunter...</td>\n      <td>7810.0</td>\n      <td>Mon Jan 23 01:11:48 +0000 2017</td>\n      <td>False</td>\n      <td>0</td>\n      <td>0.0</td>\n      <td>1.0</td>\n    </tr>\n    <tr>\n      <th>996</th>\n      <td>Wed Sep 30 00:32:52 +0000 2020</td>\n      <td>1311101673650126849</td>\n      <td>RT @TrumpWarRoom: Joe Biden is refusing to rel...</td>\n      <td>False</td>\n      <td>0</td>\n      <td>[]</td>\n      <td>[{'screen_name': 'TrumpWarRoom', 'name': 'Trum...</td>\n      <td>1068.0</td>\n      <td>Thu Mar 30 00:11:54 +0000 2017</td>\n      <td>False</td>\n      <td>0</td>\n      <td>0.0</td>\n      <td>1.0</td>\n    </tr>\n    <tr>\n      <th>997</th>\n      <td>Wed Sep 30 00:32:54 +0000 2020</td>\n      <td>1311101681933996032</td>\n      <td>@JoeBiden loves ice cream.\\nI love ice cream.\\...</td>\n      <td>True</td>\n      <td>0</td>\n      <td>[{'text': 'CLE', 'indices': [118, 122]}]</td>\n      <td>[{'screen_name': 'JoeBiden', 'name': 'Joe Bide...</td>\n      <td>1161.0</td>\n      <td>Tue Jan 08 12:33:43 +0000 2013</td>\n      <td>False</td>\n      <td>0</td>\n      <td>0.0</td>\n      <td>0.0</td>\n    </tr>\n    <tr>\n      <th>998</th>\n      <td>Wed Sep 30 00:32:56 +0000 2020</td>\n      <td>1311101690372857856</td>\n      <td>RT @dbongino: Dear Asshole Who Stole My 2 Trum...</td>\n      <td>False</td>\n      <td>0</td>\n      <td>[]</td>\n      <td>[{'screen_name': 'dbongino', 'name': 'Dan Bong...</td>\n      <td>12.0</td>\n      <td>Sun Aug 23 00:36:12 +0000 2020</td>\n      <td>False</td>\n      <td>0</td>\n      <td>0.0</td>\n      <td>1.0</td>\n    </tr>\n    <tr>\n      <th>999</th>\n      <td>Wed Sep 30 00:32:58 +0000 2020</td>\n      <td>1311101698878902274</td>\n      <td>RT @ibepacheco: Que nadie se llame a engaño co...</td>\n      <td>False</td>\n      <td>0</td>\n      <td>[]</td>\n      <td>[{'screen_name': 'ibepacheco', 'name': 'Ibéyis...</td>\n      <td>193.0</td>\n      <td>Mon Dec 26 13:05:00 +0000 2011</td>\n      <td>False</td>\n      <td>0</td>\n      <td>0.0</td>\n      <td>1.0</td>\n    </tr>\n  </tbody>\n</table>\n<p>1000 rows × 13 columns</p>\n</div>"
     },
     "metadata": {},
     "execution_count": 14
    }
   ],
   "source": [
    "df_basic = df.drop(columns = basic_drop)\n",
    "df_basic"
   ]
  },
  {
   "cell_type": "code",
   "execution_count": 15,
   "metadata": {},
   "outputs": [
    {
     "output_type": "stream",
     "name": "stdout",
     "text": [
      "<class 'pandas.core.frame.DataFrame'>\nRangeIndex: 1000 entries, 0 to 999\nData columns (total 13 columns):\n #   Column       Non-Null Count  Dtype  \n---  ------       --------------  -----  \n 0   tweet_date   1000 non-null   object \n 1   tweet_id     1000 non-null   int64  \n 2   tweet_text   1000 non-null   object \n 3   is_quote     1000 non-null   bool   \n 4   sensitive    1000 non-null   int64  \n 5   hashtags     1000 non-null   object \n 6   mentions     1000 non-null   object \n 7   u_followers  1000 non-null   float64\n 8   u_created    1000 non-null   object \n 9   u_verified   1000 non-null   bool   \n 10  u_egg        1000 non-null   int64  \n 11  is_reply     1000 non-null   float64\n 12  is_retweet   1000 non-null   float64\ndtypes: bool(2), float64(3), int64(3), object(5)\nmemory usage: 88.0+ KB\n"
     ]
    }
   ],
   "source": [
    "\n",
    "df_basic.info()"
   ]
  },
  {
   "cell_type": "code",
   "execution_count": 16,
   "metadata": {},
   "outputs": [],
   "source": [
    "q_mask = df['is_quote'] == 1\n",
    "\n",
    "df['q_is_reply'] = df['quoted_status.in_reply_to_status_id'] / df['quoted_status.in_reply_to_status_id']\n",
    "\n",
    "df['q_is_reply'] = np.where(q_mask, df['q_is_reply'].fillna(0), df['q_is_reply'])\n",
    "\n",
    "# df['q_is_reply'].fillna(value = 0, inplace = True)\n",
    "\n",
    "# df.drop(columns = ['quoted_status.in_reply_to_status_id'], inplace = True)"
   ]
  },
  {
   "cell_type": "code",
   "execution_count": 17,
   "metadata": {},
   "outputs": [
    {
     "output_type": "execute_result",
     "data": {
      "text/plain": [
       "0.0    215\n",
       "1.0      4\n",
       "Name: q_is_reply, dtype: int64"
      ]
     },
     "metadata": {},
     "execution_count": 17
    }
   ],
   "source": [
    "df['q_is_reply'].value_counts()"
   ]
  },
  {
   "cell_type": "code",
   "execution_count": 18,
   "metadata": {},
   "outputs": [
    {
     "output_type": "execute_result",
     "data": {
      "text/plain": [
       "0    52\n",
       "1     4\n",
       "Name: q_quote, dtype: int64"
      ]
     },
     "metadata": {},
     "execution_count": 18
    }
   ],
   "source": [
    "df['q_quote'] = df['q_quote'] * 1\n",
    "df['q_quote'].value_counts()"
   ]
  },
  {
   "cell_type": "code",
   "execution_count": 24,
   "metadata": {},
   "outputs": [
    {
     "output_type": "execute_result",
     "data": {
      "text/plain": [
       "\"[{'text': 'Debates2020', 'indices': [26, 38]}]\""
      ]
     },
     "metadata": {},
     "execution_count": 24
    }
   ],
   "source": [
    "df['hashtags'][21]"
   ]
  },
  {
   "cell_type": "code",
   "execution_count": 25,
   "metadata": {},
   "outputs": [
    {
     "output_type": "execute_result",
     "data": {
      "text/plain": [
       "\"[{'screen_name': 'LeeSmithDC', 'name': 'Lee Smith', 'id': 93059852, 'id_str': '93059852', 'indices': [3, 14]}]\""
      ]
     },
     "metadata": {},
     "execution_count": 25
    }
   ],
   "source": [
    "df['mentions'][20 ]"
   ]
  }
 ]
}